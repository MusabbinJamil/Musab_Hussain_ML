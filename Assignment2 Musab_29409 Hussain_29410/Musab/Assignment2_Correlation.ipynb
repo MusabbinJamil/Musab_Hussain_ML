{
 "cells": [
  {
   "cell_type": "markdown",
   "id": "1c34e7d8",
   "metadata": {},
   "source": [
    "# ML1 Assignment 2 \n",
    "# Notebook 1\n",
    "### Musab - 29409"
   ]
  },
  {
   "cell_type": "markdown",
   "id": "fb5cb6ce",
   "metadata": {},
   "source": [
    "# Effects of Cross Validation (CV)"
   ]
  },
  {
   "cell_type": "code",
   "execution_count": 56,
   "id": "53574ad1",
   "metadata": {},
   "outputs": [],
   "source": [
    "from sklearn.model_selection import train_test_split, cross_val_score\n",
    "from sklearn.metrics import accuracy_score, mean_squared_error\n",
    "from sklearn.neighbors import KNeighborsRegressor, KNeighborsClassifier\n",
    "from sklearn.preprocessing import LabelEncoder\n",
    "import numpy as np\n",
    "import pandas as pd"
   ]
  },
  {
   "cell_type": "markdown",
   "id": "7e9ab5b3",
   "metadata": {},
   "source": [
    "## Model Evaluation Functions"
   ]
  },
  {
   "cell_type": "code",
   "execution_count": 57,
   "id": "531cbd53",
   "metadata": {},
   "outputs": [],
   "source": [
    "def evaluate_knn_regression(dataset, target_column, n_neighbors=5, cv=5):\n",
    "    # Split the dataset into features and target\n",
    "    X = dataset.drop(target_column, axis=1)\n",
    "    y = dataset[target_column]\n",
    "\n",
    "    # Split the data into training and test sets\n",
    "    X_train, X_test, y_train, y_test = train_test_split(X, y, test_size=0.2, random_state=3)\n",
    "\n",
    "    # Create a KNN regressor\n",
    "    knn = KNeighborsRegressor(n_neighbors=n_neighbors)\n",
    "\n",
    "    # Train the model without CV\n",
    "    knn.fit(X_train, y_train)\n",
    "    predictions = knn.predict(X_test)\n",
    "    r2 = r2_score(y_test, predictions)\n",
    "    print(f'R2 score without CV: {r2}')\n",
    "\n",
    "    # Evaluate the model with CV\n",
    "    scores_r2 = cross_val_score(knn, X, y, cv=cv, scoring='r2')\n",
    "    avg_r2 = scores_r2.mean()\n",
    "    print(f'Average R2 score with CV: {avg_r2}')"
   ]
  },
  {
   "cell_type": "code",
   "execution_count": 58,
   "id": "b4a18725",
   "metadata": {},
   "outputs": [],
   "source": [
    "def evaluate_knn_classification(dataset, target_column, n_neighbors=5, cv=5):\n",
    "    # Split the dataset into features and target\n",
    "    X = dataset.drop(target_column, axis=1).values\n",
    "    y = dataset[target_column].values\n",
    "\n",
    "    # Split the data into training and test sets\n",
    "    X_train, X_test, y_train, y_test = train_test_split(X, y, test_size=0.2, random_state=3)\n",
    "\n",
    "    # Create a KNN classifier\n",
    "    knn = KNeighborsClassifier(n_neighbors=n_neighbors)\n",
    "\n",
    "    # Train the model without CV\n",
    "    knn.fit(X_train, y_train)\n",
    "    predictions = knn.predict(X_test)\n",
    "    accuracy = accuracy_score(y_test, predictions)\n",
    "    print(f'Accuracy without CV: {accuracy}')\n",
    "\n",
    "    # Evaluate the model with CV\n",
    "    scores = cross_val_score(knn, X, y, cv=cv, scoring='accuracy')\n",
    "    avg_accuracy = scores.mean()\n",
    "    print(f'Average accuracy with CV: {avg_accuracy}')"
   ]
  },
  {
   "cell_type": "markdown",
   "id": "da9899ef",
   "metadata": {},
   "source": [
    "## Regression Dataset: Automobile Prices"
   ]
  },
  {
   "cell_type": "code",
   "execution_count": 59,
   "id": "1b143f0f",
   "metadata": {},
   "outputs": [],
   "source": [
    "filename = r'E:\\IBA\\Semester 1\\Machine Learning 1\\Assignment\\Assignment2\\automobile\\imports-85.data'\n",
    "column_names = ['symboling', 'normalized_losses', 'make', 'fuel_type', 'aspiration',\n",
    "    'num_of_doors', 'body_style', 'drive_wheels', 'engine_location', 'wheel_base', \n",
    "    'length', 'width', 'height', 'curb_weight', 'engine_type', 'num_of_cylinders', \n",
    "    'engine_size', 'fuel_system', 'bore', 'stroke', 'compression_ratio', 'horsepower', \n",
    "    'peak_rpm', 'city_mpg', 'highway_mpg', 'price']"
   ]
  },
  {
   "cell_type": "code",
   "execution_count": 60,
   "id": "2c5d6c3c",
   "metadata": {},
   "outputs": [],
   "source": [
    "df = pd.read_csv(filename, names=column_names, header=None, delimiter=',', na_values='?')\n",
    "dataset1_name = 'Auto Mobile Dataset'"
   ]
  },
  {
   "cell_type": "code",
   "execution_count": 61,
   "id": "f1de8870",
   "metadata": {},
   "outputs": [
    {
     "name": "stdout",
     "output_type": "stream",
     "text": [
      "<class 'pandas.core.frame.DataFrame'>\n",
      "RangeIndex: 205 entries, 0 to 204\n",
      "Data columns (total 26 columns):\n",
      " #   Column             Non-Null Count  Dtype  \n",
      "---  ------             --------------  -----  \n",
      " 0   symboling          205 non-null    int64  \n",
      " 1   normalized_losses  205 non-null    float64\n",
      " 2   make               205 non-null    int32  \n",
      " 3   fuel_type          205 non-null    int32  \n",
      " 4   aspiration         205 non-null    int32  \n",
      " 5   num_of_doors       205 non-null    int32  \n",
      " 6   body_style         205 non-null    int32  \n",
      " 7   drive_wheels       205 non-null    int32  \n",
      " 8   engine_location    205 non-null    int32  \n",
      " 9   wheel_base         205 non-null    float64\n",
      " 10  length             205 non-null    float64\n",
      " 11  width              205 non-null    float64\n",
      " 12  height             205 non-null    float64\n",
      " 13  curb_weight        205 non-null    int64  \n",
      " 14  engine_type        205 non-null    int32  \n",
      " 15  num_of_cylinders   205 non-null    int32  \n",
      " 16  engine_size        205 non-null    int64  \n",
      " 17  fuel_system        205 non-null    int32  \n",
      " 18  bore               205 non-null    float64\n",
      " 19  stroke             205 non-null    float64\n",
      " 20  compression_ratio  205 non-null    float64\n",
      " 21  horsepower         205 non-null    float64\n",
      " 22  peak_rpm           205 non-null    float64\n",
      " 23  city_mpg           205 non-null    int64  \n",
      " 24  highway_mpg        205 non-null    int64  \n",
      " 25  price              205 non-null    float64\n",
      "dtypes: float64(11), int32(10), int64(5)\n",
      "memory usage: 33.8 KB\n",
      "None\n"
     ]
    }
   ],
   "source": [
    "# Create a label encoder object\n",
    "le = LabelEncoder()\n",
    "\n",
    "# List of categorical columns to convert\n",
    "categorical_cols = ['make', 'fuel_type', 'aspiration', 'num_of_doors', 'body_style', \n",
    "                    'drive_wheels', 'engine_location', 'engine_type', 'num_of_cylinders', 'fuel_system']\n",
    "\n",
    "# Apply Label Encoder on each of the categorical columns:\n",
    "for col in categorical_cols:\n",
    "    df[col] = le.fit_transform(df[col].astype(str))\n",
    "\n",
    "# Replace NaN values with 0\n",
    "df.fillna(0, inplace=True)\n",
    "\n",
    "# Display the first few rows of the DataFrame\n",
    "print(df.info())"
   ]
  },
  {
   "cell_type": "code",
   "execution_count": 62,
   "id": "b5fd33ef",
   "metadata": {
    "scrolled": true
   },
   "outputs": [
    {
     "name": "stdout",
     "output_type": "stream",
     "text": [
      "R2 score without CV: 0.8866477610504466\n",
      "Average R2 score with CV: 0.2595634558218654\n"
     ]
    }
   ],
   "source": [
    "evaluate_knn_regression(df, 'price')"
   ]
  },
  {
   "cell_type": "markdown",
   "id": "4c2435be",
   "metadata": {},
   "source": [
    "### Interpretation for Regression Dataset"
   ]
  },
  {
   "cell_type": "markdown",
   "id": "5235ae69",
   "metadata": {},
   "source": [
    "As we can see the goodness of fit drops drastically after cross validation, this means the selected model is not fit for predictions on this data set as performance drops when dataset is changed by folding 5 times."
   ]
  },
  {
   "cell_type": "markdown",
   "id": "ea6846d1",
   "metadata": {},
   "source": [
    "## Classification Dataset: Student Dropout"
   ]
  },
  {
   "cell_type": "code",
   "execution_count": 63,
   "id": "4b836f99",
   "metadata": {},
   "outputs": [],
   "source": [
    "filename2 = r'E:\\IBA\\Semester 1\\Machine Learning 1\\Assignment\\Assignment2\\student_dropout_data.csv'\n",
    "df2 = pd.read_csv(filename2, delimiter=';')\n",
    "dataset2_name = 'Student Drop Out Dataset'"
   ]
  },
  {
   "cell_type": "code",
   "execution_count": 64,
   "id": "b5aab171",
   "metadata": {},
   "outputs": [],
   "source": [
    "le = LabelEncoder()\n",
    "df2['Target'] = le.fit_transform(df2['Target'])\n",
    "target_mapping = {index: label for index, label in enumerate(le.classes_)}"
   ]
  },
  {
   "cell_type": "code",
   "execution_count": 65,
   "id": "994fe372",
   "metadata": {},
   "outputs": [
    {
     "name": "stdout",
     "output_type": "stream",
     "text": [
      "<class 'pandas.core.frame.DataFrame'>\n",
      "RangeIndex: 4424 entries, 0 to 4423\n",
      "Data columns (total 37 columns):\n",
      " #   Column                                          Non-Null Count  Dtype  \n",
      "---  ------                                          --------------  -----  \n",
      " 0   Marital status                                  4424 non-null   int64  \n",
      " 1   Application mode                                4424 non-null   int64  \n",
      " 2   Application order                               4424 non-null   int64  \n",
      " 3   Course                                          4424 non-null   int64  \n",
      " 4   Daytime/evening attendance\t                     4424 non-null   int64  \n",
      " 5   Previous qualification                          4424 non-null   int64  \n",
      " 6   Previous qualification (grade)                  4424 non-null   float64\n",
      " 7   Nacionality                                     4424 non-null   int64  \n",
      " 8   Mother's qualification                          4424 non-null   int64  \n",
      " 9   Father's qualification                          4424 non-null   int64  \n",
      " 10  Mother's occupation                             4424 non-null   int64  \n",
      " 11  Father's occupation                             4424 non-null   int64  \n",
      " 12  Admission grade                                 4424 non-null   float64\n",
      " 13  Displaced                                       4424 non-null   int64  \n",
      " 14  Educational special needs                       4424 non-null   int64  \n",
      " 15  Debtor                                          4424 non-null   int64  \n",
      " 16  Tuition fees up to date                         4424 non-null   int64  \n",
      " 17  Gender                                          4424 non-null   int64  \n",
      " 18  Scholarship holder                              4424 non-null   int64  \n",
      " 19  Age at enrollment                               4424 non-null   int64  \n",
      " 20  International                                   4424 non-null   int64  \n",
      " 21  Curricular units 1st sem (credited)             4424 non-null   int64  \n",
      " 22  Curricular units 1st sem (enrolled)             4424 non-null   int64  \n",
      " 23  Curricular units 1st sem (evaluations)          4424 non-null   int64  \n",
      " 24  Curricular units 1st sem (approved)             4424 non-null   int64  \n",
      " 25  Curricular units 1st sem (grade)                4424 non-null   float64\n",
      " 26  Curricular units 1st sem (without evaluations)  4424 non-null   int64  \n",
      " 27  Curricular units 2nd sem (credited)             4424 non-null   int64  \n",
      " 28  Curricular units 2nd sem (enrolled)             4424 non-null   int64  \n",
      " 29  Curricular units 2nd sem (evaluations)          4424 non-null   int64  \n",
      " 30  Curricular units 2nd sem (approved)             4424 non-null   int64  \n",
      " 31  Curricular units 2nd sem (grade)                4424 non-null   float64\n",
      " 32  Curricular units 2nd sem (without evaluations)  4424 non-null   int64  \n",
      " 33  Unemployment rate                               4424 non-null   float64\n",
      " 34  Inflation rate                                  4424 non-null   float64\n",
      " 35  GDP                                             4424 non-null   float64\n",
      " 36  Target                                          4424 non-null   int32  \n",
      "dtypes: float64(7), int32(1), int64(29)\n",
      "memory usage: 1.2 MB\n"
     ]
    }
   ],
   "source": [
    "df2.info()"
   ]
  },
  {
   "cell_type": "code",
   "execution_count": 66,
   "id": "6bb9328d",
   "metadata": {},
   "outputs": [
    {
     "name": "stdout",
     "output_type": "stream",
     "text": [
      "Accuracy without CV: 0.6135593220338983\n",
      "Average accuracy with CV: 0.5978740700974001\n"
     ]
    }
   ],
   "source": [
    "evaluate_knn_classification(df2, 'Target')"
   ]
  },
  {
   "cell_type": "markdown",
   "id": "14e76770",
   "metadata": {},
   "source": [
    "### Interpretation for Classification Dataset"
   ]
  },
  {
   "cell_type": "markdown",
   "id": "ca0aa616",
   "metadata": {},
   "source": [
    "Here we can see that accuracy is quite close to accuracy without CV this means, that our model is perfoming well over different folds of the datasets. This means it is likely to perform well in live testing. But the accuracy is quite low so we should consider changing to an algorithm with better prediction capability."
   ]
  }
 ],
 "metadata": {
  "kernelspec": {
   "display_name": "Python 3 (ipykernel)",
   "language": "python",
   "name": "python3"
  },
  "language_info": {
   "codemirror_mode": {
    "name": "ipython",
    "version": 3
   },
   "file_extension": ".py",
   "mimetype": "text/x-python",
   "name": "python",
   "nbconvert_exporter": "python",
   "pygments_lexer": "ipython3",
   "version": "3.11.4"
  }
 },
 "nbformat": 4,
 "nbformat_minor": 5
}
