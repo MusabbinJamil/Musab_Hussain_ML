{
 "cells": [
  {
   "cell_type": "code",
   "execution_count": 6,
   "id": "cba8560f",
   "metadata": {},
   "outputs": [],
   "source": [
    "import pandas as pd\n",
    "import numpy as np\n",
    "import json\n",
    "from sklearn.model_selection import train_test_split\n",
    "from sklearn.ensemble import RandomForestClassifier\n",
    "from sklearn.linear_model import LogisticRegression\n",
    "from sklearn.linear_model import LinearRegression\n",
    "from sklearn.metrics import mean_absolute_error, mean_squared_error, r2_score\n",
    "from sklearn.metrics import accuracy_score#, classification_report\n",
    "from sklearn.preprocessing import LabelEncoder\n",
    "from sklearn.impute import SimpleImputer\n",
    "import seaborn as sns\n",
    "import matplotlib.pyplot as plt"
   ]
  },
  {
   "cell_type": "markdown",
   "id": "90ca82d1",
   "metadata": {},
   "source": [
    "## Dataset 1: Student Dropout Prediction"
   ]
  },
  {
   "cell_type": "code",
   "execution_count": 7,
   "id": "4786ed9d",
   "metadata": {},
   "outputs": [],
   "source": [
    "# Function 1: Data Preprocessing\n",
    "def preprocess_data(path):\n",
    "    \"\"\"\n",
    "    Function to preprocess the raw data.\n",
    "    This can include tasks like handling missing values, encoding categorical variables, etc.\n",
    "    \"\"\"\n",
    "    # Load the Data\n",
    "    data = pd.read_csv(path, delimiter=';')\n",
    "\n",
    "    # Data Preprocessing\n",
    "    # Rename wrong column name\n",
    "    data.rename(columns={'Nacionality': 'Nationality'}, inplace=True)\n",
    "    data.rename(columns={'Daytime/evening attendance\\t': 'Daytime/evening attendance'}, inplace=True)\n",
    "    \n",
    "    # Check for missing values\n",
    "    #  print(data.isnull().sum()) # no null value\n",
    "    return data"
   ]
  },
  {
   "cell_type": "code",
   "execution_count": 8,
   "id": "f76c2cf1",
   "metadata": {},
   "outputs": [],
   "source": [
    "# Function 2: Feature Engineering\n",
    "def engineer_features(data):\n",
    "    \"\"\"\n",
    "    Function to engineer new features or transform existing ones.\n",
    "    This can involve tasks like scaling, creating interaction terms, etc.\n",
    "    \"\"\"\n",
    "    y = data['Target']  # Target variable\n",
    "    X = data[['Previous qualification', \"Mother's qualification\", \"Father's qualification\"]]  # Features\n",
    "#     X = data[['Admission grade', 'Inflation rate', 'Nationality', 'Daytime/evening attendance']]\n",
    "    \n",
    "    # Covert categorical target variable to numerical values\n",
    "    label_encoder = LabelEncoder()\n",
    "    y_encoded = label_encoder.fit_transform(y)\n",
    "    # X_reshaped = np.array(X).reshape(-1, 1)\n",
    "    \n",
    "    return X, y_encoded"
   ]
  },
  {
   "cell_type": "code",
   "execution_count": 9,
   "id": "490673a3",
   "metadata": {},
   "outputs": [],
   "source": [
    "# Function 3: Model Training\n",
    "def train_model(X, y):\n",
    "    \"\"\"\n",
    "    Function to train a decision tree model.\n",
    "    \"\"\"\n",
    "    # Split the data into training and testing sets\n",
    "    X_train, X_test, y_train, y_test = train_test_split(X, y, test_size=0.3, random_state=42)\n",
    "\n",
    "    # Train decision tree classification model\n",
    "    model = LogisticRegression(max_iter=5000)\n",
    "    model.fit(X_train, y_train)\n",
    "\n",
    "    # Predict on the test set\n",
    "    y_pred = model.predict(X_test)\n",
    "\n",
    "    return model, X_test, y_test, y_pred"
   ]
  },
  {
   "cell_type": "code",
   "execution_count": 10,
   "id": "fdb6059d",
   "metadata": {},
   "outputs": [],
   "source": [
    "# Function 5: Model Evaluation (for regression)\n",
    "def evaluate_model(X_test, y_test, y_pred):\n",
    "    \"\"\"\n",
    "    Function to evaluate a regression model.\n",
    "    \"\"\"\n",
    "    mae = mean_absolute_error(y_test, y_pred)\n",
    "    mse = mean_squared_error(y_test, y_pred)\n",
    "    r2 = r2_score(y_test, y_pred)\n",
    "    accuracy = accuracy_score(y_test, y_pred)\n",
    "\n",
    "    print(\"Mean Absolute Error:\", mae)\n",
    "    print(\"Mean Squared Error:\", mse)\n",
    "    print(\"R-squared:\", r2)\n",
    "    print(\"Accuracy:\", accuracy)\n",
    "    return accuracy"
   ]
  },
  {
   "cell_type": "code",
   "execution_count": 11,
   "id": "8a6000ff",
   "metadata": {},
   "outputs": [],
   "source": [
    "# Master Function to Control Workflow\n",
    "def run_pipeline(path_to_data):\n",
    "    \"\"\"\n",
    "    Master function to control the workflow/pipeline execution.\n",
    "    \"\"\"\n",
    "    # Step 1: Data Preprocessing\n",
    "    preprocessed_data = preprocess_data(path_to_data)\n",
    "    \n",
    "    # Step 2: Feature Engineering\n",
    "    X, y = engineer_features(preprocessed_data)\n",
    "    \n",
    "    # Step 3: Model Training\n",
    "    model, X_test, y_test, y_pred = train_model(X, y)\n",
    "    \n",
    "    # Step 4: Model Evaluation\n",
    "    evaluation_result = evaluate_model(X_test, y_test, y_pred)\n",
    "    \n",
    "    return model, evaluation_result"
   ]
  },
  {
   "cell_type": "code",
   "execution_count": 12,
   "id": "0c1dc52a",
   "metadata": {
    "scrolled": true
   },
   "outputs": [
    {
     "name": "stdout",
     "output_type": "stream",
     "text": [
      "Mean Absolute Error: 0.8576807228915663\n",
      "Mean Squared Error: 1.5308734939759037\n",
      "R-squared: -0.9314491176636814\n",
      "Accuracy: 0.4789156626506024\n"
     ]
    }
   ],
   "source": [
    "path_to_data = \"Data\\data.csv\"\n",
    "model, accuracy = run_pipeline(path_to_data)"
   ]
  },
  {
   "cell_type": "markdown",
   "id": "d3d42e1f",
   "metadata": {},
   "source": [
    "## Dataset 2: National Poll on Healthy Aging"
   ]
  },
  {
   "cell_type": "code",
   "execution_count": 8,
   "id": "0170b591",
   "metadata": {},
   "outputs": [
    {
     "name": "stdout",
     "output_type": "stream",
     "text": [
      "Mean Absolute Error: 0.6316353331490185\n",
      "Mean Squared Error: 0.654789442799183\n",
      "R-squared: 0.05117109738582337\n",
      "Accuracy (within ±1 units): 76.28%\n"
     ]
    }
   ],
   "source": [
    "# Load your dataset\n",
    "data = pd.read_csv('Data/NPHA-doctor-visits.csv', delimiter=',')\n",
    "\n",
    "# Selecting features (X) and target variable (y)\n",
    "X = data[['Number of Doctors Visited']]\n",
    "y = data['Phyiscal Health']\n",
    "\n",
    "# Split the data into training and testing sets\n",
    "X_train, X_test, y_train, y_test = train_test_split(X, y, test_size=0.3, random_state=3) # better score at random state 42\n",
    "\n",
    "# Initialize the linear regression model\n",
    "model = LinearRegression()\n",
    "\n",
    "# Train the model\n",
    "model.fit(X_train, y_train)\n",
    "\n",
    "# Make predictions on the test data\n",
    "predictions = model.predict(X_test)\n",
    "\n",
    "# Evaluate the model\n",
    "mae = mean_absolute_error(y_test, predictions)\n",
    "mse = mean_squared_error(y_test, predictions)\n",
    "r2 = r2_score(y_test, predictions)\n",
    "\n",
    "print('Mean Absolute Error:', mae)\n",
    "print('Mean Squared Error:', mse)\n",
    "print('R-squared:', r2)\n",
    "\n",
    "threshold = 1  # Define your threshold here\n",
    "\n",
    "# Calculate the percentage of predictions within the threshold\n",
    "accuracy = np.mean(np.abs(predictions - y_test) <= threshold) * 100\n",
    "print('Accuracy (within ±{} units): {:.2f}%'.format(threshold, accuracy))"
   ]
  },
  {
   "cell_type": "markdown",
   "id": "79850d74",
   "metadata": {},
   "source": [
    "## Dataset 3: Paper Reviews"
   ]
  },
  {
   "cell_type": "code",
   "execution_count": 9,
   "id": "bd3764f4",
   "metadata": {},
   "outputs": [
    {
     "name": "stdout",
     "output_type": "stream",
     "text": [
      "Accuracy: 0.6147540983606558\n"
     ]
    }
   ],
   "source": [
    "# Load your dataset\n",
    "path = r'E:\\IBA\\Semester 1\\Machine Learning 1\\Assignment\\Assignment1\\Data Piplines\\Data\\reviews.json'\n",
    "with open(path, 'r', encoding='utf-8') as json_file:\n",
    "    # Load JSON data into a Python dictionary\n",
    "    data = dict(json.load(json_file))\n",
    "    \n",
    "flattened_data = []\n",
    "for entry in data['paper']:\n",
    "    for review in entry['review']:\n",
    "        entry_data = {\n",
    "            'paper_id': entry['id'],\n",
    "            'preliminary_decision': entry['preliminary_decision'],\n",
    "            'review_id': review['id'],\n",
    "            'confidence': review['confidence'],\n",
    "            'evaluation': review['evaluation'],\n",
    "            'lan': review['lan'],\n",
    "            'orientation': review['orientation'],\n",
    "            'remarks': review['remarks'],\n",
    "            'text': review['text'],\n",
    "            'timespan': review['timespan']\n",
    "        }\n",
    "        flattened_data.append(entry_data)\n",
    "data = pd.DataFrame(flattened_data)\n",
    "\n",
    "# Encode string\n",
    "label_encoder = LabelEncoder()\n",
    "y_encoded = label_encoder.fit_transform(data['preliminary_decision'])\n",
    "\n",
    "# Selecting features (X) and target variable (y)\n",
    "X = data[['confidence']]  # Feature: Confidence score\n",
    "y = y_encoded  # Target: Preliminary decision (accept/reject)\n",
    "\n",
    "y = np.array(y).reshape(-1, 1)\n",
    "\n",
    "imputer = SimpleImputer(strategy='mean')\n",
    "X_imputed = imputer.fit_transform(X)\n",
    "y_imputed = imputer.fit_transform(y)\n",
    "\n",
    "# Split the data into training and testing sets\n",
    "X_train, X_test, y_train, y_test = train_test_split(X_imputed, y_imputed, test_size=0.3, random_state=123)\n",
    "\n",
    "# Initialize the Random Forest Classifier model\n",
    "model = RandomForestClassifier()\n",
    "\n",
    "# Train the model\n",
    "model.fit(X_train, y_train.ravel())  # Note: ravel() is used to flatten y_train\n",
    "\n",
    "# Make predictions on the test data\n",
    "predictions = model.predict(X_test)\n",
    "\n",
    "# Evaluate the model\n",
    "accuracy = accuracy_score(y_test, predictions)\n",
    "print('Accuracy:', accuracy)"
   ]
  },
  {
   "cell_type": "markdown",
   "id": "cd3651f5",
   "metadata": {},
   "source": [
    "## Rough work"
   ]
  },
  {
   "cell_type": "code",
   "execution_count": null,
   "id": "3fb70771",
   "metadata": {},
   "outputs": [],
   "source": [
    "# data['Inflation rate']\n",
    "# data.columns\n",
    "# data.describe()\n",
    "# plt.figure(figsize=(12, 8))\n",
    "# sns.boxplot(data=data['Unemployment rate'])  # Exclude the target variable from the plot\n",
    "# plt.xticks(rotation=45)  # Rotate x-axis labels for better readability\n",
    "# plt.title('Boxplot of the Data Features')\n",
    "# plt.tight_layout()\n",
    "# plt.show()\n",
    "# print(model.predict([[2],[-0.3]]))\n",
    "# print(data['preliminary_decision'].unique())"
   ]
  },
  {
   "cell_type": "code",
   "execution_count": null,
   "id": "f479ad58",
   "metadata": {},
   "outputs": [],
   "source": []
  }
 ],
 "metadata": {
  "kernelspec": {
   "display_name": "Python 3 (ipykernel)",
   "language": "python",
   "name": "python3"
  },
  "language_info": {
   "codemirror_mode": {
    "name": "ipython",
    "version": 3
   },
   "file_extension": ".py",
   "mimetype": "text/x-python",
   "name": "python",
   "nbconvert_exporter": "python",
   "pygments_lexer": "ipython3",
   "version": "3.11.4"
  }
 },
 "nbformat": 4,
 "nbformat_minor": 5
}
