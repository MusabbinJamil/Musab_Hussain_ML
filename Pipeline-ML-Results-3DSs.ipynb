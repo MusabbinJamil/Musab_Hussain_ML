{
 "cells": [
  {
   "cell_type": "markdown",
   "id": "0c76535b",
   "metadata": {},
   "source": [
    "This notebook provides code for KNN predictions only, for EDA kindly refer to the provided app.py script for dashboard"
   ]
  },
  {
   "cell_type": "code",
   "execution_count": 1,
   "id": "cba8560f",
   "metadata": {},
   "outputs": [],
   "source": [
    "import pandas as pd\n",
    "import numpy as np\n",
    "import json\n",
    "from sklearn.model_selection import train_test_split\n",
    "from sklearn.neighbors import KNeighborsClassifier\n",
    "from sklearn.metrics import mean_absolute_error, mean_squared_error, r2_score, accuracy_score, classification_report\n",
    "from sklearn.preprocessing import LabelEncoder\n",
    "from sklearn.impute import SimpleImputer\n",
    "import seaborn as sns\n",
    "import matplotlib.pyplot as plt"
   ]
  },
  {
   "cell_type": "markdown",
   "id": "90ca82d1",
   "metadata": {},
   "source": [
    "## Dataset 1: Student Dropout Prediction"
   ]
  },
  {
   "cell_type": "code",
   "execution_count": 2,
   "id": "4786ed9d",
   "metadata": {},
   "outputs": [],
   "source": [
    "# Function 1: Data Preprocessing\n",
    "def preprocess_data(path):\n",
    "    \"\"\"\n",
    "    Function to preprocess the raw data.\n",
    "    This can include tasks like handling missing values, encoding categorical variables, etc.\n",
    "    \"\"\"\n",
    "    # Load the Data\n",
    "    data = pd.read_csv(path, delimiter=';')\n",
    "\n",
    "    # Data Preprocessing\n",
    "    # Rename wrong column name\n",
    "    data.rename(columns={'Nacionality': 'Nationality'}, inplace=True)\n",
    "    data.rename(columns={'Daytime/evening attendance\\t': 'Daytime/evening attendance'}, inplace=True)\n",
    "    \n",
    "    # Check for missing values\n",
    "    #  print(data.isnull().sum()) # no null value\n",
    "    return data"
   ]
  },
  {
   "cell_type": "code",
   "execution_count": 3,
   "id": "f76c2cf1",
   "metadata": {},
   "outputs": [],
   "source": [
    "# Function 2: Feature Engineering\n",
    "def engineer_features(data):\n",
    "    \"\"\"\n",
    "    Function to engineer new features or transform existing ones.\n",
    "    This can involve tasks like scaling, creating interaction terms, etc.\n",
    "    \"\"\"\n",
    "    y = data['Target']  # Target variable\n",
    "    X = data[['Previous qualification', \"Mother's qualification\", \"Father's qualification\"]]  # Features\n",
    "    \n",
    "    # Covert categorical target variable to numerical values\n",
    "    label_encoder = LabelEncoder()\n",
    "    y_encoded = label_encoder.fit_transform(y)\n",
    "    # X_reshaped = np.array(X).reshape(-1, 1)\n",
    "    \n",
    "    return X, y_encoded"
   ]
  },
  {
   "cell_type": "code",
   "execution_count": 4,
   "id": "490673a3",
   "metadata": {},
   "outputs": [],
   "source": [
    "# Function 3: Model Training\n",
    "def train_model(X, y):\n",
    "    \"\"\"\n",
    "    Train a KNN classifier model.\n",
    "    \"\"\"\n",
    "    # Split the data into training and testing sets\n",
    "    X_train, X_test, y_train, y_test = train_test_split(X, y, test_size=0.2, random_state=42)\n",
    "    \n",
    "    # Initialize the KNN classifier\n",
    "    model = KNeighborsClassifier(n_neighbors=5)  # You can adjust the number of neighbors (k) as needed\n",
    "    \n",
    "    # Train the model\n",
    "    model.fit(X_train, y_train)\n",
    "    \n",
    "    # Predict on the test set\n",
    "    y_pred = model.predict(X_test)\n",
    "    \n",
    "    return model, X_test, y_test, y_pred"
   ]
  },
  {
   "cell_type": "code",
   "execution_count": 5,
   "id": "fdb6059d",
   "metadata": {},
   "outputs": [],
   "source": [
    "# Function 5: Model Evaluation (for regression)\n",
    "def evaluate_model(X_test, y_test, y_pred):\n",
    "    \"\"\"\n",
    "    Function to evaluate a regression model.\n",
    "    \"\"\"\n",
    "    mae = mean_absolute_error(y_test, y_pred)\n",
    "    mse = mean_squared_error(y_test, y_pred)\n",
    "    r2 = r2_score(y_test, y_pred)\n",
    "    class_report = classification_report(y_test, y_pred)\n",
    "    accuracy = accuracy_score(y_test, y_pred)\n",
    "\n",
    "    print(\"Mean Absolute Error:\", mae)\n",
    "    print(\"Mean Squared Error:\", mse)\n",
    "    print(\"R-squared:\", r2)\n",
    "    print(\"Accuracy:\", accuracy)\n",
    "    print('Classification Report:\\n', class_report)\n",
    "    return accuracy"
   ]
  },
  {
   "cell_type": "code",
   "execution_count": 6,
   "id": "8a6000ff",
   "metadata": {},
   "outputs": [],
   "source": [
    "# Master Function to Control Workflow\n",
    "def run_pipeline(path_to_data):\n",
    "    \"\"\"\n",
    "    Master function to control the workflow/pipeline execution.\n",
    "    \"\"\"\n",
    "    # Step 1: Data Preprocessing\n",
    "    preprocessed_data = preprocess_data(path_to_data)\n",
    "    \n",
    "    # Step 2: Feature Engineering\n",
    "    X, y = engineer_features(preprocessed_data)\n",
    "    \n",
    "    # Step 3: Model Training\n",
    "    model, X_test, y_test, y_pred = train_model(X, y)\n",
    "    \n",
    "    # Step 4: Model Evaluation\n",
    "    evaluation_result = evaluate_model(X_test, y_test, y_pred)\n",
    "    \n",
    "    return model, evaluation_result"
   ]
  },
  {
   "cell_type": "code",
   "execution_count": 7,
   "id": "0c1dc52a",
   "metadata": {
    "scrolled": true
   },
   "outputs": [
    {
     "name": "stdout",
     "output_type": "stream",
     "text": [
      "Mean Absolute Error: 0.7943502824858757\n",
      "Mean Squared Error: 1.3932203389830509\n",
      "R-squared: -0.707179130957186\n",
      "Accuracy: 0.5050847457627119\n",
      "Classification Report:\n",
      "               precision    recall  f1-score   support\n",
      "\n",
      "           0       0.51      0.41      0.45       316\n",
      "           1       0.19      0.05      0.07       151\n",
      "           2       0.52      0.74      0.61       418\n",
      "\n",
      "    accuracy                           0.51       885\n",
      "   macro avg       0.41      0.40      0.38       885\n",
      "weighted avg       0.46      0.51      0.46       885\n",
      "\n"
     ]
    }
   ],
   "source": [
    "path_to_data = \"Data\\data.csv\"\n",
    "model, accuracy = run_pipeline(path_to_data)"
   ]
  },
  {
   "cell_type": "markdown",
   "id": "d3d42e1f",
   "metadata": {},
   "source": [
    "## Dataset 2: National Poll on Healthy Aging"
   ]
  },
  {
   "cell_type": "code",
   "execution_count": 8,
   "id": "0170b591",
   "metadata": {},
   "outputs": [
    {
     "name": "stdout",
     "output_type": "stream",
     "text": [
      "Mean Absolute Error: 0.6046511627906976\n",
      "Mean Squared Error: 0.7441860465116279\n",
      "R-squared: -0.07836990595611293\n",
      "Classification Report:\n",
      "               precision    recall  f1-score   support\n",
      "\n",
      "           1       0.00      0.00      0.00        13\n",
      "           2       0.00      0.00      0.00        64\n",
      "           3       0.47      1.00      0.63       100\n",
      "           4       0.00      0.00      0.00        36\n",
      "           5       0.00      0.00      0.00         2\n",
      "\n",
      "    accuracy                           0.47       215\n",
      "   macro avg       0.09      0.20      0.13       215\n",
      "weighted avg       0.22      0.47      0.30       215\n",
      "\n"
     ]
    },
    {
     "name": "stderr",
     "output_type": "stream",
     "text": [
      "C:\\Users\\lenovo\\anaconda3\\Lib\\site-packages\\sklearn\\metrics\\_classification.py:1469: UndefinedMetricWarning: Precision and F-score are ill-defined and being set to 0.0 in labels with no predicted samples. Use `zero_division` parameter to control this behavior.\n",
      "  _warn_prf(average, modifier, msg_start, len(result))\n",
      "C:\\Users\\lenovo\\anaconda3\\Lib\\site-packages\\sklearn\\metrics\\_classification.py:1469: UndefinedMetricWarning: Precision and F-score are ill-defined and being set to 0.0 in labels with no predicted samples. Use `zero_division` parameter to control this behavior.\n",
      "  _warn_prf(average, modifier, msg_start, len(result))\n",
      "C:\\Users\\lenovo\\anaconda3\\Lib\\site-packages\\sklearn\\metrics\\_classification.py:1469: UndefinedMetricWarning: Precision and F-score are ill-defined and being set to 0.0 in labels with no predicted samples. Use `zero_division` parameter to control this behavior.\n",
      "  _warn_prf(average, modifier, msg_start, len(result))\n"
     ]
    }
   ],
   "source": [
    "# Load your dataset\n",
    "data = pd.read_csv('Data/NPHA-doctor-visits.csv', delimiter=',')\n",
    "\n",
    "# Selecting features (X) and target variable (y)\n",
    "X = data[['Number of Doctors Visited']]\n",
    "y = data['Phyiscal Health']\n",
    "\n",
    "# Split the data into training and testing sets\n",
    "X_train, X_test, y_train, y_test = train_test_split(X, y, test_size=0.3, random_state=3)\n",
    "\n",
    "# Initialize the linear regression model\n",
    "model = KNeighborsClassifier()\n",
    "\n",
    "# Train the model\n",
    "model.fit(X_train, y_train)\n",
    "\n",
    "# Make predictions on the test data\n",
    "predictions = model.predict(X_test)\n",
    "\n",
    "# Evaluate the model\n",
    "mae = mean_absolute_error(y_test, predictions)\n",
    "mse = mean_squared_error(y_test, predictions)\n",
    "r2 = r2_score(y_test, predictions)\n",
    "accuracy = \n",
    "class_report = classification_report(y_test, predictions)\n",
    "\n",
    "print('Mean Absolute Error:', mae)\n",
    "print('Mean Squared Error:', mse)\n",
    "print('R-squared:', r2)\n",
    "print('Classification Report:\\n', class_report)"
   ]
  },
  {
   "cell_type": "markdown",
   "id": "79850d74",
   "metadata": {},
   "source": [
    "## Dataset 3: Paper Reviews"
   ]
  },
  {
   "cell_type": "code",
   "execution_count": 9,
   "id": "bd3764f4",
   "metadata": {},
   "outputs": [
    {
     "name": "stdout",
     "output_type": "stream",
     "text": [
      "Mean Absolute Error: 1.0327868852459017\n",
      "Mean Squared Error: 3.0491803278688523\n",
      "R-squared: -0.4767668879344007\n",
      "Classification Report:\n",
      "               precision    recall  f1-score   support\n",
      "\n",
      "         0.0       0.65      0.92      0.76        75\n",
      "         2.0       0.00      0.00      0.00         3\n",
      "         3.0       0.62      0.23      0.33        44\n",
      "\n",
      "    accuracy                           0.65       122\n",
      "   macro avg       0.43      0.38      0.37       122\n",
      "weighted avg       0.63      0.65      0.59       122\n",
      "\n"
     ]
    },
    {
     "name": "stderr",
     "output_type": "stream",
     "text": [
      "C:\\Users\\lenovo\\anaconda3\\Lib\\site-packages\\sklearn\\metrics\\_classification.py:1469: UndefinedMetricWarning: Precision and F-score are ill-defined and being set to 0.0 in labels with no predicted samples. Use `zero_division` parameter to control this behavior.\n",
      "  _warn_prf(average, modifier, msg_start, len(result))\n",
      "C:\\Users\\lenovo\\anaconda3\\Lib\\site-packages\\sklearn\\metrics\\_classification.py:1469: UndefinedMetricWarning: Precision and F-score are ill-defined and being set to 0.0 in labels with no predicted samples. Use `zero_division` parameter to control this behavior.\n",
      "  _warn_prf(average, modifier, msg_start, len(result))\n",
      "C:\\Users\\lenovo\\anaconda3\\Lib\\site-packages\\sklearn\\metrics\\_classification.py:1469: UndefinedMetricWarning: Precision and F-score are ill-defined and being set to 0.0 in labels with no predicted samples. Use `zero_division` parameter to control this behavior.\n",
      "  _warn_prf(average, modifier, msg_start, len(result))\n"
     ]
    }
   ],
   "source": [
    "# Load your dataset\n",
    "path = r'E:\\IBA\\Semester 1\\Machine Learning 1\\Assignment\\Assignment1\\Data Piplines\\Data\\reviews.json'\n",
    "with open(path, 'r', encoding='utf-8') as json_file:\n",
    "    # Load JSON data into a Python dictionary\n",
    "    data = dict(json.load(json_file))\n",
    "    \n",
    "flattened_data = []\n",
    "for entry in data['paper']:\n",
    "    for review in entry['review']:\n",
    "        entry_data = {\n",
    "            'paper_id': entry['id'],\n",
    "            'preliminary_decision': entry['preliminary_decision'],\n",
    "            'review_id': review['id'],\n",
    "            'confidence': review['confidence'],\n",
    "            'evaluation': review['evaluation'],\n",
    "            'lan': review['lan'],\n",
    "            'orientation': review['orientation'],\n",
    "            'remarks': review['remarks'],\n",
    "            'text': review['text'],\n",
    "            'timespan': review['timespan']\n",
    "        }\n",
    "        flattened_data.append(entry_data)\n",
    "data = pd.DataFrame(flattened_data)\n",
    "\n",
    "# Encode string\n",
    "label_encoder = LabelEncoder()\n",
    "y_encoded = label_encoder.fit_transform(data['preliminary_decision'])\n",
    "\n",
    "# Selecting features (X) and target variable (y)\n",
    "X = data[['confidence']]  # Feature: Confidence score\n",
    "y = y_encoded  # Target: Preliminary decision (accept/reject)\n",
    "\n",
    "y = np.array(y).reshape(-1, 1)\n",
    "\n",
    "imputer = SimpleImputer(strategy='mean')\n",
    "X_imputed = imputer.fit_transform(X)\n",
    "y_imputed = imputer.fit_transform(y)\n",
    "\n",
    "# Split the data into training and testing sets\n",
    "X_train, X_test, y_train, y_test = train_test_split(X_imputed, y_imputed, test_size=0.3, random_state=123)\n",
    "\n",
    "# Initialize the Random Forest Classifier model\n",
    "model = KNeighborsClassifier()\n",
    "\n",
    "# Train the model\n",
    "model.fit(X_train, y_train.ravel())  # Note: ravel() is used to flatten y_train\n",
    "\n",
    "# Make predictions on the test data\n",
    "predictions = model.predict(X_test)\n",
    "\n",
    "# Evaluate the model\n",
    "mae = mean_absolute_error(y_test, predictions)\n",
    "mse = mean_squared_error(y_test, predictions)\n",
    "r2 = r2_score(y_test, predictions)\n",
    "class_report = classification_report(y_test, predictions)\n",
    "\n",
    "print('Mean Absolute Error:', mae)\n",
    "print('Mean Squared Error:', mse)\n",
    "print('R-squared:', r2)\n",
    "print('Classification Report:\\n', class_report)"
   ]
  },
  {
   "cell_type": "markdown",
   "id": "cd3651f5",
   "metadata": {},
   "source": [
    "## Rough work"
   ]
  },
  {
   "cell_type": "code",
   "execution_count": 10,
   "id": "3fb70771",
   "metadata": {},
   "outputs": [],
   "source": [
    "# data['Inflation rate']\n",
    "# data.columns\n",
    "# data.describe()\n",
    "# plt.figure(figsize=(12, 8))\n",
    "# sns.boxplot(data=data['Unemployment rate'])  # Exclude the target variable from the plot\n",
    "# plt.xticks(rotation=45)  # Rotate x-axis labels for better readability\n",
    "# plt.title('Boxplot of the Data Features')\n",
    "# plt.tight_layout()\n",
    "# plt.show()\n",
    "# print(model.predict([[2],[-0.3]]))\n",
    "# print(data['preliminary_decision'].unique())"
   ]
  },
  {
   "cell_type": "code",
   "execution_count": null,
   "id": "f479ad58",
   "metadata": {},
   "outputs": [],
   "source": []
  }
 ],
 "metadata": {
  "kernelspec": {
   "display_name": "Python 3 (ipykernel)",
   "language": "python",
   "name": "python3"
  },
  "language_info": {
   "codemirror_mode": {
    "name": "ipython",
    "version": 3
   },
   "file_extension": ".py",
   "mimetype": "text/x-python",
   "name": "python",
   "nbconvert_exporter": "python",
   "pygments_lexer": "ipython3",
   "version": "3.11.4"
  }
 },
 "nbformat": 4,
 "nbformat_minor": 5
}
